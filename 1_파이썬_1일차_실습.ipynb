{
  "nbformat": 4,
  "nbformat_minor": 0,
  "metadata": {
    "colab": {
      "provenance": [],
      "authorship_tag": "ABX9TyO61GFRuu7L3RJLm25gzYRQ",
      "include_colab_link": true
    },
    "kernelspec": {
      "name": "python3",
      "display_name": "Python 3"
    },
    "language_info": {
      "name": "python"
    }
  },
  "cells": [
    {
      "cell_type": "markdown",
      "metadata": {
        "id": "view-in-github",
        "colab_type": "text"
      },
      "source": [
        "<a href=\"https://colab.research.google.com/github/dlackd506gh/projectmanager/blob/main/1_%ED%8C%8C%EC%9D%B4%EC%8D%AC_1%EC%9D%BC%EC%B0%A8_%EC%8B%A4%EC%8A%B5.ipynb\" target=\"_parent\"><img src=\"https://colab.research.google.com/assets/colab-badge.svg\" alt=\"Open In Colab\"/></a>"
      ]
    },
    {
      "cell_type": "markdown",
      "source": [
        "# 파이썬 기초 프로그래밍 1일차 실습\n"
      ],
      "metadata": {
        "id": "gjMv69OId6eE"
      }
    },
    {
      "cell_type": "code",
      "execution_count": 1,
      "metadata": {
        "id": "Q27euWWkYzEX",
        "colab": {
          "base_uri": "https://localhost:8080/"
        },
        "outputId": "c399ec0a-056f-4792-c976-10f4582ba705"
      },
      "outputs": [
        {
          "output_type": "stream",
          "name": "stdout",
          "text": [
            "hi\n"
          ]
        }
      ],
      "source": [
        "print(\"hi\")"
      ]
    },
    {
      "cell_type": "markdown",
      "source": [
        "## 1.코랩에서 파이썬 사용하기\n"
      ],
      "metadata": {
        "id": "-LltmRNseZpd"
      }
    },
    {
      "cell_type": "markdown",
      "source": [
        "### 1-1. 파이썬 실습 1일차"
      ],
      "metadata": {
        "id": "gXHTWRSVgLrT"
      }
    },
    {
      "cell_type": "markdown",
      "source": [
        "\n",
        "### 시작\n",
        "------"
      ],
      "metadata": {
        "id": "Wq-suseKgUQi"
      }
    },
    {
      "cell_type": "code",
      "source": [
        "import sys\n",
        "\n",
        "sys.version\n"
      ],
      "metadata": {
        "colab": {
          "base_uri": "https://localhost:8080/",
          "height": 35
        },
        "id": "m9EcsAD_exwl",
        "outputId": "acd8acce-a935-48e7-fafa-beae4e0d26c9"
      },
      "execution_count": 1,
      "outputs": [
        {
          "output_type": "execute_result",
          "data": {
            "text/plain": [
              "'3.10.12 (main, Jun 11 2023, 05:26:28) [GCC 11.4.0]'"
            ],
            "application/vnd.google.colaboratory.intrinsic+json": {
              "type": "string"
            }
          },
          "metadata": {},
          "execution_count": 1
        }
      ]
    },
    {
      "cell_type": "code",
      "source": [
        "**간단 계산기 프로그램 작성하기**\n",
        "\n"
      ],
      "metadata": {
        "colab": {
          "base_uri": "https://localhost:8080/",
          "height": 142
        },
        "id": "iQW419K1fCvY",
        "outputId": "aea2d271-44ea-49ea-fcf5-14bbb6b09492"
      },
      "execution_count": 2,
      "outputs": [
        {
          "output_type": "error",
          "ename": "SyntaxError",
          "evalue": "ignored",
          "traceback": [
            "\u001b[0;36m  File \u001b[0;32m\"<ipython-input-2-2a88edf98c7c>\"\u001b[0;36m, line \u001b[0;32m1\u001b[0m\n\u001b[0;31m    **간단 계산기 프로그램 작성하기**\u001b[0m\n\u001b[0m    ^\u001b[0m\n\u001b[0;31mSyntaxError\u001b[0m\u001b[0;31m:\u001b[0m invalid syntax\n"
          ]
        }
      ]
    },
    {
      "cell_type": "code",
      "source": [],
      "metadata": {
        "id": "VEZR30f4fSZ8"
      },
      "execution_count": null,
      "outputs": []
    },
    {
      "cell_type": "markdown",
      "source": [
        "**간단 계산기 프로그램 작성하기**"
      ],
      "metadata": {
        "id": "K3O7D_BtfTj1"
      }
    },
    {
      "cell_type": "markdown",
      "source": [],
      "metadata": {
        "id": "3iWL3CZJgH4I"
      }
    },
    {
      "cell_type": "code",
      "source": [],
      "metadata": {
        "id": "52HasJs5fcBv"
      },
      "execution_count": null,
      "outputs": []
    },
    {
      "cell_type": "markdown",
      "source": [
        "a=10\n",
        "b=50\n",
        "print('덧셈',a+b)\n",
        "print('뻴셈',a-b)\n",
        "print('곱셈',a*b)\n",
        "print('나눗셈',a/b)"
      ],
      "metadata": {
        "id": "S18RXggrfcuj"
      }
    },
    {
      "cell_type": "code",
      "source": [
        "a=10 b=50 print('덧셈',a+b) print('뻴셈',a-b) print('곱셈',a*b) print('나눗셈',a/b)"
      ],
      "metadata": {
        "colab": {
          "base_uri": "https://localhost:8080/",
          "height": 142
        },
        "id": "RcPq5hnFfzcy",
        "outputId": "a79230f0-051a-4d51-aa7a-a853040bcb3a"
      },
      "execution_count": 3,
      "outputs": [
        {
          "output_type": "error",
          "ename": "SyntaxError",
          "evalue": "ignored",
          "traceback": [
            "\u001b[0;36m  File \u001b[0;32m\"<ipython-input-3-3c2a59a37236>\"\u001b[0;36m, line \u001b[0;32m1\u001b[0m\n\u001b[0;31m    a=10 b=50 print('덧셈',a+b) print('뻴셈',a-b) print('곱셈',a*b) print('나눗셈',a/b)\u001b[0m\n\u001b[0m         ^\u001b[0m\n\u001b[0;31mSyntaxError\u001b[0m\u001b[0;31m:\u001b[0m invalid syntax\n"
          ]
        }
      ]
    },
    {
      "cell_type": "code",
      "source": [
        "a=100\n",
        "b=50\n",
        "print('덧셈',a+b)\n",
        "print('뻴셈',a-b)\n",
        "print('곱셈',a*b)\n",
        "print('나눗셈',a/b)"
      ],
      "metadata": {
        "colab": {
          "base_uri": "https://localhost:8080/"
        },
        "id": "bWqAIO0Tf5SX",
        "outputId": "a49a7e63-396f-4255-bc7e-38d5312ad68b"
      },
      "execution_count": 5,
      "outputs": [
        {
          "output_type": "stream",
          "name": "stdout",
          "text": [
            "덧셈 150\n",
            "뻴셈 50\n",
            "곱셈 5000\n",
            "나눗셈 2.0\n"
          ]
        }
      ]
    }
  ]
}